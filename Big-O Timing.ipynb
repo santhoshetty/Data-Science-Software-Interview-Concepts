{
 "cells": [
  {
   "cell_type": "markdown",
   "metadata": {
    "hideCode": false,
    "hidePrompt": false
   },
   "source": [
    "# Big-O Timing\n",
    "\n",
    "When implementing algorithms, it is necessary to understand the time taken by it. For machine learning, a lot of iterations, reading expansive data and using various algorithms that use multiple steps is common. It is in the interest of the machine learning engineer to make these operations as fast as possible. Measuring the time taken by assignment steps is one effective way to find out the time taken by the algorithm. The following notebook implements many search and sorting techniques to find out the time taken by them. Finally, we can do a comparison on which techniques are the best."
   ]
  },
  {
   "cell_type": "code",
   "execution_count": 1,
   "metadata": {
    "hideCode": false,
    "hidePrompt": false
   },
   "outputs": [],
   "source": [
    "import pandas as pd\n",
    "import numpy as np\n",
    "import time\n",
    "import matplotlib.pyplot as plt\n",
    "%matplotlib inline"
   ]
  },
  {
   "cell_type": "markdown",
   "metadata": {
    "hideCode": false,
    "hidePrompt": false
   },
   "source": [
    "## 1. Search Algorithms\n",
    "\n",
    "We will implement two different search algorithms to show the above concept."
   ]
  },
  {
   "cell_type": "markdown",
   "metadata": {
    "hideCode": false,
    "hidePrompt": false
   },
   "source": [
    "### 1.1 Linear Search"
   ]
  },
  {
   "cell_type": "code",
   "execution_count": 2,
   "metadata": {
    "hideCode": false,
    "hidePrompt": false
   },
   "outputs": [],
   "source": [
    "def linearSearch(arr, itemToFind):\n",
    "    for item in arr:\n",
    "        if item == itemToFind:\n",
    "            return True\n",
    "    return False"
   ]
  },
  {
   "cell_type": "code",
   "execution_count": 3,
   "metadata": {
    "hideCode": false,
    "hidePrompt": false
   },
   "outputs": [],
   "source": [
    "arr = np.arange(1000)"
   ]
  },
  {
   "cell_type": "code",
   "execution_count": 8,
   "metadata": {
    "hideCode": false,
    "hidePrompt": false
   },
   "outputs": [
    {
     "name": "stdout",
     "output_type": "stream",
     "text": [
      "349 µs ± 106 µs per loop (mean ± std. dev. of 7 runs, 1000 loops each)\n"
     ]
    }
   ],
   "source": [
    "%timeit found = linearSearch(arr, 999)"
   ]
  },
  {
   "cell_type": "markdown",
   "metadata": {
    "hideCode": false,
    "hidePrompt": false
   },
   "source": [
    "The time scales linearly with n. The order is O(n)"
   ]
  },
  {
   "cell_type": "markdown",
   "metadata": {
    "hideCode": false,
    "hidePrompt": false
   },
   "source": [
    "### 1.2 Binary Search"
   ]
  },
  {
   "cell_type": "code",
   "execution_count": 16,
   "metadata": {
    "hideCode": false,
    "hidePrompt": false
   },
   "outputs": [],
   "source": [
    "def binarySearch(arr, itemToFind):\n",
    "    upperBound = len(arr) - 1\n",
    "    lowerBound = 0\n",
    "    while lowerBound <= upperBound:\n",
    "        middle = int((lowerBound + upperBound) / 2)\n",
    "        if itemToFind == arr[middle]:\n",
    "            return True\n",
    "        else:\n",
    "            if itemToFind < arr[middle]:\n",
    "                upperBound = middle - 1\n",
    "            if itemToFind > arr[middle]:\n",
    "                lowerBound = middle + 1\n",
    "    return False"
   ]
  },
  {
   "cell_type": "code",
   "execution_count": 17,
   "metadata": {
    "hideCode": false,
    "hidePrompt": false
   },
   "outputs": [],
   "source": [
    "arr = np.arange(1000)"
   ]
  },
  {
   "cell_type": "code",
   "execution_count": 18,
   "metadata": {
    "hideCode": false,
    "hidePrompt": false
   },
   "outputs": [
    {
     "name": "stdout",
     "output_type": "stream",
     "text": [
      "20 µs ± 508 ns per loop (mean ± std. dev. of 7 runs, 100000 loops each)\n"
     ]
    }
   ],
   "source": [
    "%timeit found = binarySearch(arr, 999)"
   ]
  },
  {
   "cell_type": "markdown",
   "metadata": {
    "hideCode": false,
    "hidePrompt": false
   },
   "source": [
    "The time scales logarithmically. The order is O(log(n)). BinarySearch is atleast 12 times faster than LinearSearch."
   ]
  },
  {
   "cell_type": "markdown",
   "metadata": {
    "hideCode": false,
    "hidePrompt": false
   },
   "source": [
    "## 2. Sorting Algorithms\n",
    "\n"
   ]
  },
  {
   "cell_type": "markdown",
   "metadata": {
    "hideCode": false,
    "hidePrompt": false
   },
   "source": [
    "### 2.1 Bubble Sort\n",
    "\n",
    "Bubble sort is the most inefficient sorting mechanism because it has to perform exchange operations that are expensive in terms of time. However, it is efficient in recognizing a sorted list by tracking exchanges in a particular pass. If there was no exchange in a pass, the list can be considered sorted. Bubble sort can be used to identify sorted list and stop early. The order of bubble sort is O($n^2$)"
   ]
  },
  {
   "cell_type": "code",
   "execution_count": 37,
   "metadata": {
    "hideCode": false,
    "hidePrompt": false
   },
   "outputs": [],
   "source": [
    "def bubbleSort(arr):\n",
    "    count_swaps = 1\n",
    "    while count_swaps > 0:\n",
    "        count_swaps = 0\n",
    "        for i in range(1, len(arr)):\n",
    "            if arr[i] < arr[i-1]:\n",
    "                count_swaps += 1\n",
    "                arr[i], arr[i-1] = arr[i-1], arr[i]\n",
    "        print(arr)\n",
    "    return arr"
   ]
  },
  {
   "cell_type": "code",
   "execution_count": 38,
   "metadata": {
    "hideCode": false,
    "hidePrompt": false
   },
   "outputs": [],
   "source": [
    "Arr = [1,2,3,4,22,14,56,74,23,108,7,8,33]"
   ]
  },
  {
   "cell_type": "markdown",
   "metadata": {
    "hideCode": false,
    "hidePrompt": false
   },
   "source": [
    "bubbleSort(Arr)"
   ]
  },
  {
   "cell_type": "markdown",
   "metadata": {
    "hideCode": false,
    "hidePrompt": false
   },
   "source": [
    "### 2.2 Selection Sort\n",
    "\n",
    "Selection sort makes only one exchange for one pass. In every pass, it looks for the largest value and places that number in the correct position. With every pass, the list length over which the algorithm looks is reduced. The order is O($n^2$) "
   ]
  },
  {
   "cell_type": "code",
   "execution_count": 42,
   "metadata": {
    "hideCode": false,
    "hidePrompt": false
   },
   "outputs": [],
   "source": [
    "def selectionSort(arr):\n",
    "    upperBound = len(arr) - 1\n",
    "    for i in range(len(arr)):\n",
    "        maximum = arr[len(arr)-1 - i]\n",
    "        max_index = len(arr) - 1 - i\n",
    "        for j in range(upperBound):\n",
    "            if arr[j] > maximum:\n",
    "                maximum = arr[j]\n",
    "                max_index = j\n",
    "            else:\n",
    "                continue\n",
    "        arr[len(arr)-1 - i], arr[max_index] = arr[max_index], arr[len(arr)-1 -i] \n",
    "        upperBound -= 1\n",
    "        print(arr)\n",
    "    return arr"
   ]
  },
  {
   "cell_type": "code",
   "execution_count": 44,
   "metadata": {
    "hideCode": false,
    "hidePrompt": false
   },
   "outputs": [],
   "source": [
    "Arr = [1,2,3,4,22,14,56,74,23,108,7,8,33]"
   ]
  },
  {
   "cell_type": "code",
   "execution_count": 45,
   "metadata": {
    "hideCode": false,
    "hidePrompt": false
   },
   "outputs": [
    {
     "name": "stdout",
     "output_type": "stream",
     "text": [
      "[1, 2, 3, 4, 22, 14, 56, 74, 23, 33, 7, 8, 108]\n",
      "[1, 2, 3, 4, 22, 14, 56, 8, 23, 33, 7, 74, 108]\n",
      "[1, 2, 3, 4, 22, 14, 7, 8, 23, 33, 56, 74, 108]\n",
      "[1, 2, 3, 4, 22, 14, 7, 8, 23, 33, 56, 74, 108]\n",
      "[1, 2, 3, 4, 22, 14, 7, 8, 23, 33, 56, 74, 108]\n",
      "[1, 2, 3, 4, 8, 14, 7, 22, 23, 33, 56, 74, 108]\n",
      "[1, 2, 3, 4, 8, 7, 14, 22, 23, 33, 56, 74, 108]\n",
      "[1, 2, 3, 4, 7, 8, 14, 22, 23, 33, 56, 74, 108]\n",
      "[1, 2, 3, 4, 7, 8, 14, 22, 23, 33, 56, 74, 108]\n",
      "[1, 2, 3, 4, 7, 8, 14, 22, 23, 33, 56, 74, 108]\n",
      "[1, 2, 3, 4, 7, 8, 14, 22, 23, 33, 56, 74, 108]\n",
      "[1, 2, 3, 4, 7, 8, 14, 22, 23, 33, 56, 74, 108]\n",
      "[1, 2, 3, 4, 7, 8, 14, 22, 23, 33, 56, 74, 108]\n"
     ]
    },
    {
     "data": {
      "text/plain": [
       "[1, 2, 3, 4, 7, 8, 14, 22, 23, 33, 56, 74, 108]"
      ]
     },
     "execution_count": 45,
     "metadata": {},
     "output_type": "execute_result"
    }
   ],
   "source": [
    "selectionSort(Arr)"
   ]
  },
  {
   "cell_type": "markdown",
   "metadata": {
    "hideCode": false,
    "hidePrompt": false
   },
   "source": [
    "### 2.3 Insertion Sort\n",
    "\n",
    "In insertion sort, initially, the first element is assumed to be sorted. The next element is inserted into the sorted part of the list accordingly. The order is O($n^2$)"
   ]
  },
  {
   "cell_type": "code",
   "execution_count": 46,
   "metadata": {
    "hideCode": false,
    "hidePrompt": false
   },
   "outputs": [],
   "source": [
    "def insertionSort(arr):\n",
    "    for i in range(1, len(arr)):\n",
    "        value = arr[i]\n",
    "        position = i\n",
    "        while arr[position-1] > value and position > 0:\n",
    "            arr[position], arr[position-1] = arr[position-1], arr[position]\n",
    "            position -= 1\n",
    "        print(arr)\n",
    "    return arr"
   ]
  },
  {
   "cell_type": "code",
   "execution_count": 47,
   "metadata": {
    "hideCode": false,
    "hidePrompt": false
   },
   "outputs": [],
   "source": [
    "Arr = [1,2,3,4,22,14,56,74,23,108,7,8,33]"
   ]
  },
  {
   "cell_type": "code",
   "execution_count": 48,
   "metadata": {
    "hideCode": true,
    "hidePrompt": true
   },
   "outputs": [
    {
     "name": "stdout",
     "output_type": "stream",
     "text": [
      "[1, 2, 3, 4, 22, 14, 56, 74, 23, 108, 7, 8, 33]\n",
      "[1, 2, 3, 4, 22, 14, 56, 74, 23, 108, 7, 8, 33]\n",
      "[1, 2, 3, 4, 22, 14, 56, 74, 23, 108, 7, 8, 33]\n",
      "[1, 2, 3, 4, 22, 14, 56, 74, 23, 108, 7, 8, 33]\n",
      "[1, 2, 3, 4, 14, 22, 56, 74, 23, 108, 7, 8, 33]\n",
      "[1, 2, 3, 4, 14, 22, 56, 74, 23, 108, 7, 8, 33]\n",
      "[1, 2, 3, 4, 14, 22, 56, 74, 23, 108, 7, 8, 33]\n",
      "[1, 2, 3, 4, 14, 22, 23, 56, 74, 108, 7, 8, 33]\n",
      "[1, 2, 3, 4, 14, 22, 23, 56, 74, 108, 7, 8, 33]\n",
      "[1, 2, 3, 4, 7, 14, 22, 23, 56, 74, 108, 8, 33]\n",
      "[1, 2, 3, 4, 7, 8, 14, 22, 23, 56, 74, 108, 33]\n",
      "[1, 2, 3, 4, 7, 8, 14, 22, 23, 33, 56, 74, 108]\n"
     ]
    },
    {
     "data": {
      "text/plain": [
       "[1, 2, 3, 4, 7, 8, 14, 22, 23, 33, 56, 74, 108]"
      ]
     },
     "execution_count": 48,
     "metadata": {},
     "output_type": "execute_result"
    }
   ],
   "source": [
    "insertionSort(Arr)"
   ]
  },
  {
   "cell_type": "markdown",
   "metadata": {
    "hideCode": false,
    "hidePrompt": false
   },
   "source": [
    "### 2.4 Merge Sort"
   ]
  },
  {
   "cell_type": "code",
   "execution_count": 52,
   "metadata": {
    "code_folding": [],
    "hideCode": false,
    "hidePrompt": false
   },
   "outputs": [],
   "source": [
    "def mergeSort(arr):\n",
    "    print(\"Splitting the array \", arr)\n",
    "    if len(arr) > 1:\n",
    "        middle = int(len(arr) / 2)\n",
    "        leftArr = arr[:middle]\n",
    "        rightArr = arr[middle:]\n",
    "        \n",
    "        mergeSort(leftArr)\n",
    "        mergeSort(rightArr)\n",
    "        \n",
    "        i = 0\n",
    "        j = 0\n",
    "        k = 0 \n",
    "\n",
    "        while i < len(leftArr) and j < len(rightArr):\n",
    "            if leftArr[i] < rightArr[j]:\n",
    "                arr[k] = leftArr[i]\n",
    "                i = i + 1\n",
    "            else:\n",
    "                arr[k] = rightArr[j]\n",
    "                j = j + 1\n",
    "            k = k + 1\n",
    "\n",
    "        while i < len(leftArr):\n",
    "            arr[k] = leftArr[i]\n",
    "            i = i + 1\n",
    "            k = k + 1\n",
    "\n",
    "        while j < len(rightArr):\n",
    "            arr[k] = rightArr[j]\n",
    "            j = j + 1\n",
    "            k = k + 1\n",
    "    print(\"Merging to form the array\", arr) "
   ]
  },
  {
   "cell_type": "code",
   "execution_count": 53,
   "metadata": {
    "hideCode": false,
    "hidePrompt": false
   },
   "outputs": [],
   "source": [
    "Arr = [1,2,3,4,22,14,56,74,23,108,7,8,33]"
   ]
  },
  {
   "cell_type": "code",
   "execution_count": 54,
   "metadata": {
    "hideCode": false,
    "hidePrompt": false
   },
   "outputs": [
    {
     "name": "stdout",
     "output_type": "stream",
     "text": [
      "Splitting the array  [1, 2, 3, 4, 22, 14, 56, 74, 23, 108, 7, 8, 33]\n",
      "Splitting the array  [1, 2, 3, 4, 22, 14]\n",
      "Splitting the array  [1, 2, 3]\n",
      "Splitting the array  [1]\n",
      "Merging to form the array [1]\n",
      "Splitting the array  [2, 3]\n",
      "Splitting the array  [2]\n",
      "Merging to form the array [2]\n",
      "Splitting the array  [3]\n",
      "Merging to form the array [3]\n",
      "Merging to form the array [2, 3]\n",
      "Merging to form the array [1, 2, 3]\n",
      "Splitting the array  [4, 22, 14]\n",
      "Splitting the array  [4]\n",
      "Merging to form the array [4]\n",
      "Splitting the array  [22, 14]\n",
      "Splitting the array  [22]\n",
      "Merging to form the array [22]\n",
      "Splitting the array  [14]\n",
      "Merging to form the array [14]\n",
      "Merging to form the array [14, 22]\n",
      "Merging to form the array [4, 14, 22]\n",
      "Merging to form the array [1, 2, 3, 4, 14, 22]\n",
      "Splitting the array  [56, 74, 23, 108, 7, 8, 33]\n",
      "Splitting the array  [56, 74, 23]\n",
      "Splitting the array  [56]\n",
      "Merging to form the array [56]\n",
      "Splitting the array  [74, 23]\n",
      "Splitting the array  [74]\n",
      "Merging to form the array [74]\n",
      "Splitting the array  [23]\n",
      "Merging to form the array [23]\n",
      "Merging to form the array [23, 74]\n",
      "Merging to form the array [23, 56, 74]\n",
      "Splitting the array  [108, 7, 8, 33]\n",
      "Splitting the array  [108, 7]\n",
      "Splitting the array  [108]\n",
      "Merging to form the array [108]\n",
      "Splitting the array  [7]\n",
      "Merging to form the array [7]\n",
      "Merging to form the array [7, 108]\n",
      "Splitting the array  [8, 33]\n",
      "Splitting the array  [8]\n",
      "Merging to form the array [8]\n",
      "Splitting the array  [33]\n",
      "Merging to form the array [33]\n",
      "Merging to form the array [8, 33]\n",
      "Merging to form the array [7, 8, 33, 108]\n",
      "Merging to form the array [7, 8, 23, 33, 56, 74, 108]\n",
      "Merging to form the array [1, 2, 3, 4, 7, 8, 14, 22, 23, 33, 56, 74, 108]\n"
     ]
    }
   ],
   "source": [
    "mergeSort(Arr)"
   ]
  },
  {
   "cell_type": "markdown",
   "metadata": {
    "hideCode": true,
    "hidePrompt": true
   },
   "source": [
    "### 2.5 Quick Sort\n",
    "\n",
    "Order is O(nlog(n))"
   ]
  },
  {
   "cell_type": "code",
   "execution_count": 59,
   "metadata": {
    "hideCode": false,
    "hidePrompt": false
   },
   "outputs": [],
   "source": [
    "def quickSort(arr):\n",
    "    quickSortFlags(arr, 0, len(arr)-1)\n",
    "\n",
    "def quickSortFlags(arr, left, right):\n",
    "    if left >= right:\n",
    "        return\n",
    "    pivot = arr[int((left+right) / 2)]\n",
    "    index = partition(arr, left, right, pivot)\n",
    "    quickSortFlags(arr, left, index-1)\n",
    "    quickSortFlags(arr, index, right)\n",
    "    \n",
    "def partition(arr, left, right, pivot):\n",
    "    while left <= right:\n",
    "        while arr[left] < pivot:\n",
    "            left += 1\n",
    "        while arr[right] > pivot:\n",
    "            right -= 1\n",
    "        if left <= right:\n",
    "            arr[left], arr[right] = arr[right], arr[left]\n",
    "            left += 1\n",
    "            right -= 1\n",
    "    return left      "
   ]
  },
  {
   "cell_type": "code",
   "execution_count": 60,
   "metadata": {
    "hideCode": false,
    "hidePrompt": false
   },
   "outputs": [],
   "source": [
    "Arr = [1,2,3,4,22,14,56,74,23,108,7,8,33]"
   ]
  },
  {
   "cell_type": "code",
   "execution_count": 65,
   "metadata": {
    "hideCode": false,
    "hidePrompt": false
   },
   "outputs": [
    {
     "data": {
      "text/plain": [
       "[1, 2, 3, 4, 7, 8, 14, 22, 23, 33, 56, 74, 108]"
      ]
     },
     "execution_count": 65,
     "metadata": {},
     "output_type": "execute_result"
    }
   ],
   "source": [
    "quickSort(Arr); Arr"
   ]
  }
 ],
 "metadata": {
  "hide_code_all_hidden": true,
  "kernelspec": {
   "display_name": "Python 3",
   "language": "python",
   "name": "python3"
  },
  "language_info": {
   "codemirror_mode": {
    "name": "ipython",
    "version": 3
   },
   "file_extension": ".py",
   "mimetype": "text/x-python",
   "name": "python",
   "nbconvert_exporter": "python",
   "pygments_lexer": "ipython3",
   "version": "3.6.4"
  }
 },
 "nbformat": 4,
 "nbformat_minor": 2
}
