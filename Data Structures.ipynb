{
 "cells": [
  {
   "cell_type": "markdown",
   "metadata": {},
   "source": [
    "# Data Structures"
   ]
  },
  {
   "cell_type": "code",
   "execution_count": 2,
   "metadata": {},
   "outputs": [],
   "source": [
    "import numpy as np\n",
    "import pandas as pd\n",
    "import time\n",
    "import matplotlib.pyplot as plt\n",
    "%matplotlib inline"
   ]
  },
  {
   "cell_type": "markdown",
   "metadata": {},
   "source": [
    "## 1. Linked Lists"
   ]
  },
  {
   "cell_type": "code",
   "execution_count": 3,
   "metadata": {},
   "outputs": [],
   "source": [
    "class Node():\n",
    "    def __init__(self, value):\n",
    "        self.value = value\n",
    "        self.next = None\n",
    "        \n",
    "    def getValue(self):\n",
    "        return self.value\n",
    "    \n",
    "    def getNextNode(self):\n",
    "        return self.next\n",
    "    \n",
    "    def setValue(self, updatedValue):\n",
    "        self.value = updatedValue\n",
    "        \n",
    "    def setNextNode(self, nextNode):\n",
    "        self.next = nextNode"
   ]
  },
  {
   "cell_type": "code",
   "execution_count": 4,
   "metadata": {},
   "outputs": [],
   "source": [
    "class linkedList():\n",
    "    def __init__(self):\n",
    "        self.head = None\n",
    "        \n",
    "    def isEmpty(self):\n",
    "        if self.head == None:\n",
    "            return True\n",
    "        else:\n",
    "            return False\n",
    "    \n",
    "    def addNode(self, value):\n",
    "        if self.isEmpty():\n",
    "            self.head = Node(value)\n",
    "        else:\n",
    "            temp = Node(value)\n",
    "            temp.setNextNode(self.head)\n",
    "            self.head = temp"
   ]
  },
  {
   "cell_type": "code",
   "execution_count": 8,
   "metadata": {},
   "outputs": [],
   "source": [
    "firstList = linkedList()"
   ]
  },
  {
   "cell_type": "code",
   "execution_count": 9,
   "metadata": {},
   "outputs": [],
   "source": [
    "firstList.addNode(50)\n",
    "firstList.addNode(7)\n",
    "firstList.addNode(3)\n",
    "firstList.addNode(21)"
   ]
  },
  {
   "cell_type": "code",
   "execution_count": 11,
   "metadata": {},
   "outputs": [],
   "source": [
    "class linkedList():\n",
    "    def __init__(self):\n",
    "        self.head = None\n",
    "        \n",
    "    def isEmpty(self):\n",
    "        if self.head == None:\n",
    "            return True\n",
    "        else:\n",
    "            return False\n",
    "    \n",
    "    def addNode(self, value):\n",
    "        if self.isEmpty():\n",
    "            self.head = Node(value)\n",
    "        else:\n",
    "            temp = Node(value)\n",
    "            temp.setNextNode(self.head)\n",
    "            self.head = temp\n",
    "            \n",
    "    def size(self):\n",
    "        if self.head == None:\n",
    "            return 0\n",
    "        \n",
    "        count = 0\n",
    "        currNode = self.head\n",
    "        while currNode != None:\n",
    "            count += 1\n",
    "            currNode = currNode.getNextNode()\n",
    "        return coutn\n",
    "            \n",
    "    def searchList(self, value):\n",
    "        if self.head == None:\n",
    "            return 'List is empty'\n",
    "        \n",
    "        currNode = self.head\n",
    "        while currNode != None:\n",
    "            if currNode.getValue() == value:\n",
    "                return 'Found'\n",
    "            else:\n",
    "                currNode = currNode.getNextNode()\n",
    "        return 'Not Found'\n",
    "    \n",
    "    def removeFromList(self, value):\n",
    "        if self.head == None:\n",
    "            return \"Can't remove from empty linked list\"\n",
    "        \n",
    "        prevNode = None\n",
    "        currNode = self.head\n",
    "        present = False\n",
    "        while currNode != None and present != True:\n",
    "            if currNode.getValue() == value:\n",
    "                present = True\n",
    "            else:\n",
    "                prevNode = currNode\n",
    "                currNode = currNode.getNextNode()\n",
    "        \n",
    "        if prevNode == None and present == True:\n",
    "            self.head = Node(value)\n",
    "        elif prevNode != None and present == True:\n",
    "            prevNode.setNextNode(currNode.getNextNode())\n",
    "        elif present == False:\n",
    "            return 'Not Found'"
   ]
  },
  {
   "cell_type": "code",
   "execution_count": 12,
   "metadata": {},
   "outputs": [],
   "source": [
    "secondList = linkedList()"
   ]
  },
  {
   "cell_type": "code",
   "execution_count": 13,
   "metadata": {},
   "outputs": [],
   "source": [
    "secondList.addNode(50)\n",
    "secondList.addNode(7)\n",
    "secondList.addNode(3)\n",
    "secondList.addNode(21)"
   ]
  },
  {
   "cell_type": "code",
   "execution_count": 14,
   "metadata": {},
   "outputs": [
    {
     "data": {
      "text/plain": [
       "21"
      ]
     },
     "execution_count": 14,
     "metadata": {},
     "output_type": "execute_result"
    }
   ],
   "source": [
    "secondList.head.getValue()"
   ]
  },
  {
   "cell_type": "code",
   "execution_count": 15,
   "metadata": {},
   "outputs": [
    {
     "data": {
      "text/plain": [
       "'Found'"
      ]
     },
     "execution_count": 15,
     "metadata": {},
     "output_type": "execute_result"
    }
   ],
   "source": [
    "secondList.searchList(7)"
   ]
  },
  {
   "cell_type": "code",
   "execution_count": 16,
   "metadata": {},
   "outputs": [
    {
     "data": {
      "text/plain": [
       "'Not Found'"
      ]
     },
     "execution_count": 16,
     "metadata": {},
     "output_type": "execute_result"
    }
   ],
   "source": [
    "secondList.removeFromList(40)"
   ]
  },
  {
   "cell_type": "code",
   "execution_count": 17,
   "metadata": {},
   "outputs": [],
   "source": [
    "secondList.removeFromList(50)"
   ]
  },
  {
   "cell_type": "code",
   "execution_count": 37,
   "metadata": {},
   "outputs": [],
   "source": [
    "class linkedList():\n",
    "    def __init__(self):\n",
    "        self.head = None\n",
    "        \n",
    "    def isEmpty(self):\n",
    "        if self.head == None:\n",
    "            return True\n",
    "        else:\n",
    "            return False\n",
    "    \n",
    "    def addNode(self, value):\n",
    "        if self.isEmpty():\n",
    "            self.head = Node(value)\n",
    "        else:\n",
    "            temp = Node(value)\n",
    "            temp.setNextNode(self.head)\n",
    "            self.head = temp\n",
    "            \n",
    "    def size(self):\n",
    "        if self.head == None:\n",
    "            return 0\n",
    "        \n",
    "        count = 0\n",
    "        currNode = self.head\n",
    "        while currNode != None:\n",
    "            count += 1\n",
    "            currNode = currNode.getNextNode()\n",
    "        return coutn\n",
    "            \n",
    "    def searchList(self, value):\n",
    "        if self.head == None:\n",
    "            return 'List is empty'\n",
    "        \n",
    "        currNode = self.head\n",
    "        while currNode != None:\n",
    "            if currNode.getValue() == value:\n",
    "                return 'Found'\n",
    "            else:\n",
    "                currNode = currNode.getNextNode()\n",
    "        return 'Not Found'\n",
    "    \n",
    "    def removeFromList(self, value):\n",
    "        if self.head == None:\n",
    "            return \"Can't remove from empty linked list\"\n",
    "        \n",
    "        prevNode = None\n",
    "        currNode = self.head\n",
    "        present = False\n",
    "        while currNode != None and present != True:\n",
    "            if currNode.getValue() == value:\n",
    "                present = True\n",
    "            else:\n",
    "                prevNode = currNode\n",
    "                currNode = currNode.getNextNode()\n",
    "        \n",
    "        if prevNode == None and present == True:\n",
    "            self.head = Node(value)\n",
    "        elif prevNode != None and present == True:\n",
    "            prevNode.setNextNode(currNode.getNextNode())\n",
    "        elif present == False:\n",
    "            return 'Not Found'\n",
    "        \n",
    "    def addToListEnd(self, value):\n",
    "        if self.head == None:\n",
    "            self.head = Node(value)\n",
    "        else:\n",
    "            currNode = self.head\n",
    "            while currNode != None:\n",
    "                currNode = currNode.getNextNode()\n",
    "            currNode.setNextNode(value)\n",
    "            \n",
    "    def __str__(self):\n",
    "        if self.head == None:\n",
    "            return 'Empty Linked list'\n",
    "        currNode = self.head\n",
    "        arr = []\n",
    "        while currNode != None:\n",
    "            value = currNode.getValue()\n",
    "            arr.append(value)\n",
    "            currNode = currNode.getNextNode()\n",
    "        return str(arr)\n",
    "    \n",
    "    def insertSortedNode(self, value):\n",
    "        if self.head == None:\n",
    "            self.head = Node(value)\n",
    "        else:\n",
    "            prevNode = None\n",
    "            currNode = self.head\n",
    "            while currNode != None:\n",
    "                if prevNode == None:\n",
    "                    if value <= currNode.getValue():\n",
    "                        temp = Node(value)\n",
    "                        temp.setNextNode(self.head)\n",
    "                        self.head = temp\n",
    "                        return\n",
    "                    else:\n",
    "                        prevNode = currNode\n",
    "                        currNode = currNode.getNextNode()\n",
    "                else:\n",
    "                    if prevNode.getValue() <= value <= currNode.getValue():\n",
    "                        temp = Node(value)\n",
    "                        prevNode.setNextNode(temp)\n",
    "                        temp.setNextNode(currNode)\n",
    "                        return\n",
    "                    else:\n",
    "                        prevNode = currNode\n",
    "                        currNode = currNode.getNextNode()\n",
    "            temp = Node(value)\n",
    "            prevNode.setNextNode(temp)"
   ]
  },
  {
   "cell_type": "code",
   "execution_count": 38,
   "metadata": {},
   "outputs": [],
   "source": [
    "secondList = linkedList()\n",
    "secondList.addNode(50)\n",
    "secondList.addNode(7)\n",
    "secondList.addNode(3)\n",
    "secondList.addNode(21)"
   ]
  },
  {
   "cell_type": "code",
   "execution_count": 39,
   "metadata": {},
   "outputs": [
    {
     "name": "stdout",
     "output_type": "stream",
     "text": [
      "[21, 3, 7, 50]\n"
     ]
    }
   ],
   "source": [
    "print(secondList)"
   ]
  },
  {
   "cell_type": "code",
   "execution_count": 40,
   "metadata": {},
   "outputs": [],
   "source": [
    "thirdList = linkedList()\n",
    "thirdList.insertSortedNode(5)\n",
    "thirdList.insertSortedNode(1)\n",
    "thirdList.insertSortedNode(10)\n",
    "thirdList.insertSortedNode(6)"
   ]
  },
  {
   "cell_type": "code",
   "execution_count": 41,
   "metadata": {},
   "outputs": [
    {
     "name": "stdout",
     "output_type": "stream",
     "text": [
      "[1, 5, 6, 10]\n"
     ]
    }
   ],
   "source": [
    "print(thirdList)"
   ]
  },
  {
   "cell_type": "markdown",
   "metadata": {},
   "source": [
    "## 2. Tree"
   ]
  },
  {
   "cell_type": "markdown",
   "metadata": {},
   "source": [
    "### 2.1 Binary Tree"
   ]
  },
  {
   "cell_type": "code",
   "execution_count": null,
   "metadata": {},
   "outputs": [],
   "source": [
    "class binaryTree():\n",
    "    def __init__(self, root):\n",
    "        self.key = root\n",
    "        self.left = None\n",
    "        self.right = None\n",
    "        \n",
    "    def insertLeft(self, leftNode):\n",
    "        if self.left == None:\n",
    "            self.left = binaryTree(leftNode)\n",
    "        else:\n",
    "            temp = binaryTree(leftNode)\n",
    "            temp.left = self.left\n",
    "            self.left = temp\n",
    "            \n",
    "    def insertRight(self, rightNode):\n",
    "        if self.right == None:\n",
    "            self.right = binaryTree(rightNode)\n",
    "        else:\n",
    "            temp = binaryTree(rightNode)\n",
    "            temp.right = self.right\n",
    "            self.right = temp\n",
    "            \n",
    "    def getRightChild(self):\n",
    "        return self.right\n",
    "    \n",
    "    def getLeftChild(self):\n",
    "        return self.left\n",
    "    \n",
    "    def setRootValue(self, newRootValue):\n",
    "        self.key = newRootValue\n",
    "        \n",
    "    def getRootValue(self):\n",
    "        return self.key\n",
    "    \n",
    "    def "
   ]
  },
  {
   "cell_type": "code",
   "execution_count": null,
   "metadata": {},
   "outputs": [],
   "source": []
  }
 ],
 "metadata": {
  "kernelspec": {
   "display_name": "Python 3",
   "language": "python",
   "name": "python3"
  },
  "language_info": {
   "codemirror_mode": {
    "name": "ipython",
    "version": 3
   },
   "file_extension": ".py",
   "mimetype": "text/x-python",
   "name": "python",
   "nbconvert_exporter": "python",
   "pygments_lexer": "ipython3",
   "version": "3.6.4"
  }
 },
 "nbformat": 4,
 "nbformat_minor": 2
}
